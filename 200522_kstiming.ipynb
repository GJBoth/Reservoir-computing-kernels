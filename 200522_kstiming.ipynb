{
 "cells": [
  {
   "cell_type": "code",
   "execution_count": 1,
   "metadata": {},
   "outputs": [],
   "source": [
    "import numpy as np\n",
    "import torch\n",
    "from tqdm import tqdm\n",
    "from time import time\n",
    "\n",
    "%matplotlib inline\n",
    "import matplotlib.pyplot as plt\n",
    "from mpl_toolkits.mplot3d import Axes3D\n",
    "from matplotlib import cm\n",
    "import seaborn\n",
    "import sys\n",
    "seaborn.set()\n",
    "\n",
    "import warnings\n",
    "warnings.filterwarnings(\"ignore\")\n",
    "\n",
    "import reservoir\n",
    "import computekernel\n",
    "from reckernel import RecKernel\n",
    "from kuramoto import KS\n",
    "%load_ext autoreload\n",
    "%autoreload 2\n",
    "use_cuda = torch.cuda.is_available()\n",
    "device = torch.device(\"cuda\" if use_cuda else \"cpu\")"
   ]
  },
  {
   "cell_type": "code",
   "execution_count": 2,
   "metadata": {},
   "outputs": [],
   "source": [
    "L    = 6\n",
    "N    = 100\n",
    "dt   = 0.25\n",
    "ninittransients = 1000\n",
    "tend = 5000 + ninittransients*dt  #50000\n",
    "dns  = KS(L=L, N=N, dt=dt, tend=tend)\n",
    "\n",
    "N_data_train = 10000\n",
    "N_data_test = 10000\n",
    "\n",
    "dns.simulate()\n",
    "u = dns.uu[ninittransients:] / np.sqrt(N)\n",
    "[u_train, u_test, _] = np.split(u, [N_data_train, N_data_train+N_data_test], axis=0)"
   ]
  },
  {
   "cell_type": "code",
   "execution_count": 3,
   "metadata": {},
   "outputs": [
    {
     "data": {
      "image/png": "[encoded data removed]",
      "text/plain": [
       "<Figure size 432x288 with 2 Axes>"
      ]
     },
     "metadata": {},
     "output_type": "display_data"
    }
   ],
   "source": [
    "N_plot = 1000\n",
    "u_plot = u[:N_plot,:]\n",
    "N_plot = np.shape(u_plot)[0]\n",
    "# Plotting the contour plot\n",
    "fig = plt.subplots()\n",
    "# t, s = np.meshgrid(np.arange(N_plot)*dt, np.array(range(N))+1)\n",
    "n, s = np.meshgrid(np.arange(N_plot), np.array(range(N))+1)\n",
    "plt.contourf(s, n, np.transpose(u_plot), 15, cmap=plt.get_cmap(\"seismic\"))\n",
    "plt.colorbar()\n",
    "plt.xlabel(r\"$x$\")\n",
    "plt.ylabel(r\"$n, \\quad t=n \\cdot {:}$\".format(dt));\n",
    "\n",
    "#     plt.savefig(base_path + \"/Figures/Plot_U_first_N{:d}.png\".format(N_plot), bbox_inches=\"tight\")\n",
    "#     plt.close()"
   ]
  },
  {
   "cell_type": "code",
   "execution_count": 4,
   "metadata": {},
   "outputs": [],
   "source": [
    "def gaussian_data(n_input, input_len_max, input_dim, fix_seed=False):\n",
    "    if fix_seed == True:\n",
    "        torch.manual_seed(42)\n",
    "    return torch.randn(n_input, input_len_max, input_dim).to(device) / np.sqrt(input_dim)"
   ]
  },
  {
   "cell_type": "code",
   "execution_count": 7,
   "metadata": {},
   "outputs": [
    {
     "name": "stderr",
     "output_type": "stream",
     "text": [
      "10it [01:26,  8.66s/it]\n"
     ]
    }
   ],
   "source": [
    "u_train_t = torch.from_numpy(u_train).to(device)\n",
    "u_test_t = torch.from_numpy(u_test).to(device)\n",
    "input_len, input_dim = u_train_t.shape\n",
    "\n",
    "# pred_horizon_range = 100\n",
    "# out_train = torch.zeros(input_len, input_dim * pred_horizon_range).to(device)\n",
    "# out_test = torch.zeros(input_len, input_dim * pred_horizon_range).to(device)\n",
    "# for pred_horizon in range(1, pred_horizon_range+1):\n",
    "#     out_train[:, (pred_horizon-1)*input_dim:pred_horizon*input_dim] = torch.roll(u_train_t, -pred_horizon, dims=0)\n",
    "#     out_test[:, (pred_horizon-1)*input_dim:pred_horizon*input_dim] = torch.roll(u_test_t, -pred_horizon, dims=0)\n",
    "pred_horizon = 10\n",
    "out_train = torch.roll(u_train_t, -pred_horizon, dims=0)\n",
    "out_test = torch.roll(u_test_t, -pred_horizon, dims=0)\n",
    "\n",
    "n_curves = 10\n",
    "n_res_range = np.logspace(2, 4, num=n_curves, dtype=int)\n",
    "input_scale = 0.1\n",
    "res_scale = 0.7\n",
    "\n",
    "n_p = len(n_res_range)\n",
    "init_time = np.zeros((n_p,1))\n",
    "forward_time = np.zeros((n_p,1))\n",
    "train_time = np.zeros((n_p,1))\n",
    "pred_time = np.zeros((n_p,1))\n",
    "\n",
    "# mse = torch.zeros(n_curves, pred_horizon_range)\n",
    "\n",
    "for i, n_res in tqdm(enumerate(n_res_range)):\n",
    "    initial_state = torch.randn(n_res).to(device) / np.sqrt(n_res)\n",
    "    \n",
    "    start = time()\n",
    "    torch.cuda.synchronize()\n",
    "    model = reservoir.ESN(input_dim, res_size=n_res, res_scale=res_scale, input_scale=input_scale, f='erf')\n",
    "    torch.cuda.synchronize()\n",
    "    init_time[i] = time() - start\n",
    "    start = time()\n",
    "    torch.cuda.synchronize()\n",
    "    X = model.forward(u_train_t, initial_state=initial_state).to(device)\n",
    "    torch.cuda.synchronize()\n",
    "    forward_time[i] = time() - start\n",
    "\n",
    "    start = time()\n",
    "    torch.cuda.synchronize()\n",
    "    output_w = model.train(X, out_train)\n",
    "    torch.cuda.synchronize()\n",
    "    train_time[i] = time() - start\n",
    "#     pred_output = X @ output_w\n",
    "\n",
    "    start = time()\n",
    "    torch.cuda.synchronize()\n",
    "    Xtest = model.forward(u_test_t, initial_state=initial_state).to(device)\n",
    "    pred_output_test = Xtest @ output_w\n",
    "    torch.cuda.synchronize()\n",
    "    pred_time[i] = time() - start\n",
    "\n",
    "#     for pred_horizon in range(1, pred_horizon_range+1):\n",
    "#         mse[i, pred_horizon-1] = torch.mean(\n",
    "#             (pred_output_test[:, (pred_horizon-1)*input_dim:pred_horizon*input_dim] \n",
    "#             - out_test[:, (pred_horizon-1)*input_dim:pred_horizon*input_dim])**2)"
   ]
  },
  {
   "cell_type": "code",
   "execution_count": 8,
   "metadata": {},
   "outputs": [],
   "source": [
    "times = np.concatenate((init_time, forward_time, train_time, pred_time), axis=1)\n",
    "np.save('out/200522_time_rc_kslen1e4_long', times)"
   ]
  },
  {
   "cell_type": "code",
   "execution_count": 9,
   "metadata": {},
   "outputs": [
    {
     "name": "stderr",
     "output_type": "stream",
     "text": [
      "7it [00:30,  4.33s/it]\n"
     ]
    },
    {
     "ename": "RuntimeError",
     "evalue": "CUDA out of memory. Tried to allocate 3.98 GiB (GPU 0; 10.76 GiB total capacity; 5.84 GiB already allocated; 3.65 GiB free; 6.26 GiB reserved in total by PyTorch)",
     "output_type": "error",
     "traceback": [
      "\u001b[0;31m---------------------------------------------------------------------------\u001b[0m",
      "\u001b[0;31mRuntimeError\u001b[0m                              Traceback (most recent call last)",
      "\u001b[0;32m<ipython-input-9-c482df589f2c>\u001b[0m in \u001b[0;36m<module>\u001b[0;34m()\u001b[0m\n\u001b[1;32m     45\u001b[0m     \u001b[0mstart\u001b[0m \u001b[0;34m=\u001b[0m \u001b[0mtime\u001b[0m\u001b[0;34m(\u001b[0m\u001b[0;34m)\u001b[0m\u001b[0;34m\u001b[0m\u001b[0;34m\u001b[0m\u001b[0m\n\u001b[1;32m     46\u001b[0m     \u001b[0mtorch\u001b[0m\u001b[0;34m.\u001b[0m\u001b[0mcuda\u001b[0m\u001b[0;34m.\u001b[0m\u001b[0msynchronize\u001b[0m\u001b[0;34m(\u001b[0m\u001b[0;34m)\u001b[0m\u001b[0;34m\u001b[0m\u001b[0;34m\u001b[0m\u001b[0m\n\u001b[0;32m---> 47\u001b[0;31m     \u001b[0moutput_w\u001b[0m \u001b[0;34m=\u001b[0m \u001b[0mmodel\u001b[0m\u001b[0;34m.\u001b[0m\u001b[0mtrain\u001b[0m\u001b[0;34m(\u001b[0m\u001b[0mX\u001b[0m\u001b[0;34m,\u001b[0m \u001b[0mout_train\u001b[0m\u001b[0;34m)\u001b[0m\u001b[0;34m\u001b[0m\u001b[0;34m\u001b[0m\u001b[0m\n\u001b[0m\u001b[1;32m     48\u001b[0m     \u001b[0mtorch\u001b[0m\u001b[0;34m.\u001b[0m\u001b[0mcuda\u001b[0m\u001b[0;34m.\u001b[0m\u001b[0msynchronize\u001b[0m\u001b[0;34m(\u001b[0m\u001b[0;34m)\u001b[0m\u001b[0;34m\u001b[0m\u001b[0;34m\u001b[0m\u001b[0m\n\u001b[1;32m     49\u001b[0m     \u001b[0mtrain_time\u001b[0m\u001b[0;34m[\u001b[0m\u001b[0mi\u001b[0m\u001b[0;34m]\u001b[0m \u001b[0;34m=\u001b[0m \u001b[0mtime\u001b[0m\u001b[0;34m(\u001b[0m\u001b[0;34m)\u001b[0m \u001b[0;34m-\u001b[0m \u001b[0mstart\u001b[0m\u001b[0;34m\u001b[0m\u001b[0;34m\u001b[0m\u001b[0m\n",
      "\u001b[0;32m/home/jonathan/Reservoir-computing-kernels/reservoir.py\u001b[0m in \u001b[0;36mtrain\u001b[0;34m(self, X, y, method, alpha)\u001b[0m\n\u001b[1;32m    144\u001b[0m             \u001b[0mK\u001b[0m \u001b[0;34m=\u001b[0m \u001b[0mX\u001b[0m\u001b[0;34m.\u001b[0m\u001b[0mT\u001b[0m \u001b[0;34m@\u001b[0m \u001b[0mX\u001b[0m  \u001b[0;31m# size (res_size, res_size)\u001b[0m\u001b[0;34m\u001b[0m\u001b[0;34m\u001b[0m\u001b[0m\n\u001b[1;32m    145\u001b[0m             \u001b[0mK\u001b[0m\u001b[0;34m.\u001b[0m\u001b[0mview\u001b[0m\u001b[0;34m(\u001b[0m\u001b[0;34m-\u001b[0m\u001b[0;36m1\u001b[0m\u001b[0;34m)\u001b[0m\u001b[0;34m[\u001b[0m\u001b[0;34m:\u001b[0m\u001b[0;34m:\u001b[0m\u001b[0mlen\u001b[0m\u001b[0;34m(\u001b[0m\u001b[0mK\u001b[0m\u001b[0;34m)\u001b[0m\u001b[0;34m+\u001b[0m\u001b[0;36m1\u001b[0m\u001b[0;34m]\u001b[0m \u001b[0;34m+=\u001b[0m \u001b[0malpha\u001b[0m  \u001b[0;31m# add elements on the diagonal inplace\u001b[0m\u001b[0;34m\u001b[0m\u001b[0;34m\u001b[0m\u001b[0m\n\u001b[0;32m--> 146\u001b[0;31m             \u001b[0mL\u001b[0m \u001b[0;34m=\u001b[0m \u001b[0mtorch\u001b[0m\u001b[0;34m.\u001b[0m\u001b[0mcholesky\u001b[0m\u001b[0;34m(\u001b[0m\u001b[0mK\u001b[0m\u001b[0;34m,\u001b[0m \u001b[0mupper\u001b[0m\u001b[0;34m=\u001b[0m\u001b[0;32mFalse\u001b[0m\u001b[0;34m)\u001b[0m\u001b[0;34m\u001b[0m\u001b[0;34m\u001b[0m\u001b[0m\n\u001b[0m\u001b[1;32m    147\u001b[0m             \u001b[0;32mreturn\u001b[0m \u001b[0mtorch\u001b[0m\u001b[0;34m.\u001b[0m\u001b[0mcholesky_solve\u001b[0m\u001b[0;34m(\u001b[0m\u001b[0mXt_y\u001b[0m\u001b[0;34m,\u001b[0m \u001b[0mL\u001b[0m\u001b[0;34m,\u001b[0m \u001b[0mupper\u001b[0m\u001b[0;34m=\u001b[0m\u001b[0;32mFalse\u001b[0m\u001b[0;34m)\u001b[0m\u001b[0;34m\u001b[0m\u001b[0;34m\u001b[0m\u001b[0m\n\u001b[1;32m    148\u001b[0m         \u001b[0;32melif\u001b[0m \u001b[0mmethod\u001b[0m \u001b[0;34m==\u001b[0m \u001b[0;34m'sklearn ridge'\u001b[0m\u001b[0;34m:\u001b[0m\u001b[0;34m\u001b[0m\u001b[0;34m\u001b[0m\u001b[0m\n",
      "\u001b[0;31mRuntimeError\u001b[0m: CUDA out of memory. Tried to allocate 3.98 GiB (GPU 0; 10.76 GiB total capacity; 5.84 GiB already allocated; 3.65 GiB free; 6.26 GiB reserved in total by PyTorch)"
     ]
    }
   ],
   "source": [
    "u_train_t = torch.from_numpy(u_train).to(device)\n",
    "u_test_t = torch.from_numpy(u_test).to(device)\n",
    "input_len, input_dim = u_train_t.shape\n",
    "\n",
    "# pred_horizon_range = 100\n",
    "# out_train = torch.zeros(input_len, input_dim * pred_horizon_range).to(device)\n",
    "# out_test = torch.zeros(input_len, input_dim * pred_horizon_range).to(device)\n",
    "# for pred_horizon in range(1, pred_horizon_range+1):\n",
    "#     out_train[:, (pred_horizon-1)*input_dim:pred_horizon*input_dim] = torch.roll(u_train_t, -pred_horizon, dims=0)\n",
    "#     out_test[:, (pred_horizon-1)*input_dim:pred_horizon*input_dim] = torch.roll(u_test_t, -pred_horizon, dims=0)\n",
    "pred_horizon = 10\n",
    "out_train = torch.roll(u_train_t, -pred_horizon, dims=0)\n",
    "out_test = torch.roll(u_test_t, -pred_horizon, dims=0)\n",
    "\n",
    "n_curves = 3\n",
    "first_pow = 8\n",
    "last_pow = 15  # 2**20 => ~10^6\n",
    "n_res_range = np.logspace(first_pow, last_pow, num=last_pow-first_pow+1, base=2., dtype=int) - input_dim\n",
    "# n_res_range = np.logspace(2, 4, num=n_curves, dtype=int)\n",
    "input_scale = 0.1\n",
    "res_scale = 0.7\n",
    "\n",
    "n_p = len(n_res_range)\n",
    "init_time = np.zeros((n_p,1))\n",
    "forward_time = np.zeros((n_p,1))\n",
    "train_time = np.zeros((n_p,1))\n",
    "pred_time = np.zeros((n_p,1))\n",
    "\n",
    "# mse = torch.zeros(n_curves, pred_horizon_range)\n",
    "\n",
    "for i, n_res in tqdm(enumerate(n_res_range)):\n",
    "    initial_state = torch.randn(n_res).to(device) / np.sqrt(n_res)\n",
    "    \n",
    "    start = time()\n",
    "    torch.cuda.synchronize()\n",
    "    model = reservoir.ESN(input_dim, res_size=n_res, res_scale=res_scale, input_scale=input_scale, f='erf', random_projection='structured')\n",
    "    torch.cuda.synchronize()\n",
    "    init_time[i] = time() - start\n",
    "    start = time()\n",
    "    torch.cuda.synchronize()\n",
    "    X = model.forward(u_train_t, initial_state=initial_state).to(device)\n",
    "    torch.cuda.synchronize()\n",
    "    forward_time[i] = time() - start\n",
    "\n",
    "    start = time()\n",
    "    torch.cuda.synchronize()\n",
    "    output_w = model.train(X, out_train)\n",
    "    torch.cuda.synchronize()\n",
    "    train_time[i] = time() - start\n",
    "#     pred_output = X @ output_w\n",
    "\n",
    "    Xtest = model.forward(u_test_t, initial_state=initial_state).to(device)\n",
    "    start = time()\n",
    "    torch.cuda.synchronize()\n",
    "    pred_output_test = Xtest @ output_w\n",
    "    torch.cuda.synchronize()\n",
    "    pred_time[i] = time() - start\n",
    "\n",
    "#     for pred_horizon in range(1, pred_horizon_range+1):\n",
    "#         mse[i, pred_horizon-1] = torch.mean(\n",
    "#             (pred_output_test[:, (pred_horizon-1)*input_dim:pred_horizon*input_dim] \n",
    "#             - out_test[:, (pred_horizon-1)*input_dim:pred_horizon*input_dim])**2)"
   ]
  },
  {
   "cell_type": "code",
   "execution_count": null,
   "metadata": {},
   "outputs": [],
   "source": [
    "times = np.concatenate((init_time, forward_time, train_time, pred_time), axis=1)\n",
    "np.save('out/200522_time_src_kslen1e4', times)"
   ]
  },
  {
   "cell_type": "code",
   "execution_count": null,
   "metadata": {},
   "outputs": [],
   "source": []
  }
 ],
 "metadata": {
  "kernelspec": {
   "display_name": "Python 3",
   "language": "python",
   "name": "python3"
  },
  "language_info": {
   "codemirror_mode": {
    "name": "ipython",
    "version": 3
   },
   "file_extension": ".py",
   "mimetype": "text/x-python",
   "name": "python",
   "nbconvert_exporter": "python",
   "pygments_lexer": "ipython3",
   "version": "3.6.9"
  }
 },
 "nbformat": 4,
 "nbformat_minor": 2
}
