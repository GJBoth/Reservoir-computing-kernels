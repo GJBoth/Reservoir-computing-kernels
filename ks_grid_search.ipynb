{
 "cells": [
  {
   "cell_type": "code",
   "execution_count": null,
   "metadata": {},
   "outputs": [],
   "source": [
    "import numpy as np\n",
    "import torch\n",
    "from tqdm import tqdm\n",
    "\n",
    "%matplotlib inline\n",
    "import matplotlib.pyplot as plt\n",
    "from mpl_toolkits.mplot3d import Axes3D\n",
    "from matplotlib import cm\n",
    "import seaborn\n",
    "import sys\n",
    "seaborn.set()\n",
    "\n",
    "import warnings\n",
    "warnings.filterwarnings(\"ignore\")\n",
    "\n",
    "import reservoir\n",
    "import reckernel\n",
    "import kuramoto\n",
    "%load_ext autoreload\n",
    "%autoreload 2\n",
    "use_cuda = torch.cuda.is_available()\n",
    "device = torch.device(\"cuda\" if use_cuda else \"cpu\")"
   ]
  },
  {
   "cell_type": "markdown",
   "metadata": {},
   "source": [
    "# Data generation"
   ]
  },
  {
   "cell_type": "code",
   "execution_count": null,
   "metadata": {},
   "outputs": [],
   "source": [
    "L = 22 / (2 * np.pi)  # length\n",
    "N = 100  # space discretization step\n",
    "dt = 0.25  # time discretization step\n",
    "N_train = 10000\n",
    "N_test = 5000\n",
    "N_init = 1000  # remove the initial points\n",
    "tend = (N_train + N_test + N_init) * dt\n",
    "\n",
    "dns = kuramoto.KS(L=L, N=N, dt=dt, tend=tend)\n",
    "dns.simulate()\n",
    "u = dns.uu[ninittransients:] / np.sqrt(N)\n",
    "[u_train, u_test, _] = np.split(u, [N_data_train, N_data_train+N_data_test], axis=0)"
   ]
  },
  {
   "cell_type": "code",
   "execution_count": null,
   "metadata": {},
   "outputs": [],
   "source": [
    "N_plot = 1000\n",
    "u_plot = u[:N_plot,:]\n",
    "\n",
    "plt.figure()\n",
    "plt.imshow(u.T)\n",
    "plt.colorbar()\n",
    "plt.grid(b=None)\n",
    "plt.xlabel(r\"$n, \\quad t={:}n$\".format(dt))\n",
    "plt.ylabel(r\"$x$\")\n",
    "plt.title(\"Kuramoto-Sivashisky time series\")"
   ]
  },
  {
   "cell_type": "markdown",
   "metadata": {},
   "source": [
    "# Grid search for Reservoir Computing"
   ]
  },
  {
   "cell_type": "code",
   "execution_count": null,
   "metadata": {},
   "outputs": [],
   "source": [
    "u_train_t = torch.from_numpy(u_train).to(device)\n",
    "u_test_t = torch.from_numpy(u_test).to(device)\n",
    "pred_horizon = 15\n",
    "out_train = torch.roll(u_train_t, -pred_horizon, dims=0)\n",
    "out_test = torch.roll(u_test_t, -pred_horizon, dims=0)\n",
    "\n",
    "n_res = 1000\n",
    "initial_state = torch.randn(n_res).to(device) / np.sqrt(n_res)\n",
    "n_input = 1 # number of time series\n",
    "input_len, input_dim = u_train_t.shape # time steps t\n",
    "\n",
    "input_scale_vec = np.arange(start=0.02, stop=0.5, step=0.02)\n",
    "res_scale_vec = np.arange(start=0.1, stop=1, step=0.1)\n",
    "err = torch.zeros(len(input_scale_vec), len(res_scale_vec))\n",
    "\n",
    "for i, input_scale in tqdm(enumerate(input_scale_vec)):\n",
    "    for j, res_scale in enumerate(res_scale_vec):\n",
    "        model = reservoir.ESN(input_dim, res_size=n_res, res_scale=res_scale, input_scale=input_scale, f='erf')\n",
    "        X = model.forward(u_train_t, initial_state=initial_state).to(device)\n",
    "\n",
    "        output_w = model.train(X, out_train)\n",
    "        pred_output = X @ output_w\n",
    "\n",
    "        Xtest = model.forward(u_test_t, initial_state=initial_state).to(device)\n",
    "        pred_output_test = Xtest @ output_w\n",
    "\n",
    "        err[i, j] = torch.norm(pred_output_test - out_test)"
   ]
  },
  {
   "cell_type": "code",
   "execution_count": null,
   "metadata": {},
   "outputs": [],
   "source": [
    "mini = np.argmin(err.numpy())\n",
    "input_scale_vec = np.arange(start=0.02, stop=0.2, step=0.02)\n",
    "res_scale_vec = np.arange(start=0.1, stop=1, step=0.1)\n",
    "width = len(res_scale_vec)\n",
    "x = mini // width\n",
    "y = np.mod(mini, width)\n",
    "print(err[x, y])\n",
    "optim_input_scale = input_scale_vec[x]\n",
    "optim_res_scale = res_scale_vec[y]\n",
    "print(optim_input_scale, optim_res_scale)"
   ]
  },
  {
   "cell_type": "code",
   "execution_count": null,
   "metadata": {},
   "outputs": [],
   "source": []
  }
 ],
 "metadata": {
  "kernelspec": {
   "display_name": "Python 3",
   "language": "python",
   "name": "python3"
  },
  "language_info": {
   "codemirror_mode": {
    "name": "ipython",
    "version": 3
   },
   "file_extension": ".py",
   "mimetype": "text/x-python",
   "name": "python",
   "nbconvert_exporter": "python",
   "pygments_lexer": "ipython3",
   "version": "3.6.9"
  }
 },
 "nbformat": 4,
 "nbformat_minor": 2
}
