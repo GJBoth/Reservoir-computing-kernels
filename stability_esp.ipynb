{
 "cells": [
  {
   "cell_type": "code",
   "execution_count": null,
   "metadata": {},
   "outputs": [],
   "source": [
    "import numpy as np\n",
    "import torch\n",
    "from tqdm import tqdm\n",
    "\n",
    "%matplotlib inline\n",
    "import matplotlib.pyplot as plt\n",
    "from mpl_toolkits.mplot3d import Axes3D\n",
    "from matplotlib import cm\n",
    "import seaborn\n",
    "import sys\n",
    "seaborn.set()\n",
    "\n",
    "import warnings\n",
    "warnings.filterwarnings(\"ignore\")\n",
    "\n",
    "import reservoir\n",
    "import reckernel\n",
    "import kuramoto\n",
    "%load_ext autoreload\n",
    "%autoreload 2\n",
    "use_cuda = torch.cuda.is_available()\n",
    "device = torch.device(\"cuda\" if use_cuda else \"cpu\")"
   ]
  },
  {
   "cell_type": "markdown",
   "metadata": {},
   "source": [
    "# Data generation"
   ]
  },
  {
   "cell_type": "code",
   "execution_count": null,
   "metadata": {},
   "outputs": [],
   "source": [
    "L = 22 / (2 * np.pi)  # length\n",
    "N = 100  # space discretization step\n",
    "dt = 0.25  # time discretization step\n",
    "N_train = 10000\n",
    "N_test = 10000\n",
    "N_init = 1000  # remove the initial points\n",
    "tend = (N_train + N_test + N_init) * dt\n",
    "\n",
    "dns = kuramoto.KS(L=L, N=N, dt=dt, tend=tend)\n",
    "dns.simulate()\n",
    "u = dns.uu[ninittransients:] / np.sqrt(N)\n",
    "[u_train, u_test, _] = np.split(u, [N_data_train, N_data_train+N_data_test], axis=0)"
   ]
  },
  {
   "cell_type": "code",
   "execution_count": null,
   "metadata": {},
   "outputs": [],
   "source": [
    "N_plot = 1000\n",
    "u_plot = u[:N_plot,:]\n",
    "\n",
    "plt.figure()\n",
    "plt.imshow(u.T)\n",
    "plt.colorbar()\n",
    "plt.grid(b=None)\n",
    "plt.xlabel(r\"$n, \\quad t={:}n$\".format(dt))\n",
    "plt.ylabel(r\"$x$\")\n",
    "plt.title(\"Kuramoto-Sivashisky time series\")"
   ]
  },
  {
   "cell_type": "markdown",
   "metadata": {},
   "source": [
    "# Stability for Reservoir Computing"
   ]
  },
  {
   "cell_type": "code",
   "execution_count": null,
   "metadata": {},
   "outputs": [],
   "source": [
    "input_data = torch.from_numpy(u_train).to(device)\n",
    "input_len = 100\n",
    "input_data = input_data[:input_len, :]\n",
    "\n",
    "n_input = 1 # number of time series\n",
    "input_len, input_dim = input_data.shape # time steps t\n",
    "input_scale = 0.01  # variance of input\n",
    "res_scale = 0.8 # variance of reservoir\n",
    "\n",
    "n_res = 1000\n",
    "torch.manual_seed(1)\n",
    "initial_state1 = torch.randn(n_res).to(device) / np.sqrt(n_res)\n",
    "model = reservoir.ESN(input_dim, res_size=n_res, res_scale=res_scale, input_scale=input_scale, f='erf')\n",
    "X1 = model.forward(input_data, initial_state=initial_state1).to(device)\n",
    "\n",
    "torch.manual_seed(2)\n",
    "initial_state2 = torch.randn(n_res).to(device) / np.sqrt(n_res)\n",
    "model = reservoir.ESN(input_dim, res_size=n_res, res_scale=res_scale, input_scale=input_scale, f='erf')\n",
    "X2 = model.forward(input_data, initial_state=initial_state2).to(device)"
   ]
  },
  {
   "cell_type": "code",
   "execution_count": null,
   "metadata": {},
   "outputs": [],
   "source": [
    "diff = X2 - X1\n",
    "plt.plot(torch.mean(torch.abs(diff)**2, axis=1).cpu());"
   ]
  },
  {
   "cell_type": "markdown",
   "metadata": {},
   "source": [
    "# Stability for Recurrent Kernels"
   ]
  },
  {
   "cell_type": "code",
   "execution_count": null,
   "metadata": {},
   "outputs": [],
   "source": [
    "input_data = torch.from_numpy(u_train).to(device)\n",
    "input_len = 150\n",
    "input_data = input_data[:input_len, :]\n",
    "\n",
    "n_input = 1 # number of time series\n",
    "input_len, input_dim = input_data.shape # time steps t\n",
    "input_scale = 0.01  # variance of input\n",
    "res_scale = 0.8 # variance of reservoir\n",
    "\n",
    "model = reckernel.RK(input_dim, res_scale=res_scale, input_scale=input_scale, f='arcsin', n_iter=50)\n",
    "dist2 = model.stability_test(input_data)"
   ]
  },
  {
   "cell_type": "code",
   "execution_count": null,
   "metadata": {},
   "outputs": [],
   "source": [
    "plt.plot(dist2.cpu());"
   ]
  }
 ],
 "metadata": {
  "kernelspec": {
   "display_name": "Python 3",
   "language": "python",
   "name": "python3"
  },
  "language_info": {
   "codemirror_mode": {
    "name": "ipython",
    "version": 3
   },
   "file_extension": ".py",
   "mimetype": "text/x-python",
   "name": "python",
   "nbconvert_exporter": "python",
   "pygments_lexer": "ipython3",
   "version": "3.6.9"
  }
 },
 "nbformat": 4,
 "nbformat_minor": 2
}
