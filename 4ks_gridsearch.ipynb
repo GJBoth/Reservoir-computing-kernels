{
 "cells": [
  {
   "cell_type": "code",
   "execution_count": 1,
   "metadata": {},
   "outputs": [],
   "source": [
    "import numpy as np\n",
    "import torch\n",
    "from tqdm import tqdm\n",
    "\n",
    "%matplotlib inline\n",
    "import matplotlib.pyplot as plt\n",
    "import seaborn\n",
    "seaborn.set()\n",
    "\n",
    "import reservoir\n",
    "import reckernel\n",
    "import kuramoto\n",
    "%load_ext autoreload\n",
    "%autoreload 2\n",
    "\n",
    "use_cuda = torch.cuda.is_available()\n",
    "device = torch.device(\"cuda\" if use_cuda else \"cpu\")\n",
    "today = '200609'"
   ]
  },
  {
   "cell_type": "markdown",
   "metadata": {},
   "source": [
    "# Grid search for Kuramoto-Sivashinsky prediction\n",
    "\n",
    "We perform the grid search on Structured Reservoir Computing as it is the most efficient method for our case. We run it on a time series of length 10,000 for training and 4,000 for testing. The reservoir size is about 8,000.\n",
    "\n",
    "Here are the hyperparameters to tune:\n",
    "- input_scale: scale of the input weights\n",
    "- res_scale: scale of the reservoir weights\n",
    "- bias_scale: scale of the random additive bias\n",
    "- renorm_factor: scale of the current input, that is concatenated with the reservoir state\n",
    "- alpha: L2 regularization factor\n",
    "Since there is a lot of hyperparameters to vary, we perform grid searches on each of them successively.\n",
    "\n",
    "## Data generation"
   ]
  },
  {
   "cell_type": "code",
   "execution_count": 3,
   "metadata": {},
   "outputs": [],
   "source": [
    "L = 22 / (2 * np.pi)  # length\n",
    "N = 100  # space discretization step\n",
    "dt = 0.25  # time discretization step\n",
    "N_train = 10000\n",
    "N_test = 5000\n",
    "N_init = 1000  # remove the initial points\n",
    "tend = (N_train + N_test) * dt + N_init\n",
    "\n",
    "dns = kuramoto.KS(L=L, N=N, dt=dt, tend=tend)\n",
    "dns.simulate()\n",
    "u = dns.uu[N_init:] / np.sqrt(N)\n",
    "[u_train, u_test, _] = np.split(u, [N_train, N_train+N_test], axis=0)"
   ]
  },
  {
   "cell_type": "markdown",
   "metadata": {},
   "source": [
    "## Grid search"
   ]
  },
  {
   "cell_type": "code",
   "execution_count": 4,
   "metadata": {},
   "outputs": [
    {
     "name": "stderr",
     "output_type": "stream",
     "text": [
      "10it [01:25,  8.55s/it]\n"
     ]
    }
   ],
   "source": [
    "test_len = 4000\n",
    "n_rec_pred = test_len\n",
    "u_train_t = torch.from_numpy(u_train).to(device)\n",
    "u_test_t = torch.from_numpy(u_test).to(device)\n",
    "input_len, input_dim = u_train_t.shape\n",
    "\n",
    "pred_horizon_range = 1\n",
    "out_train = torch.zeros(input_len, input_dim * pred_horizon_range).to(device)\n",
    "for pred_horizon in range(1, pred_horizon_range+1):\n",
    "    out_train[:, (pred_horizon-1)*input_dim:pred_horizon*input_dim] = torch.roll(u_train_t, -pred_horizon, dims=0)\n",
    "\n",
    "n_res = 8192-input_dim\n",
    "input_scale = 0.4\n",
    "res_scale = 0.9\n",
    "bias_scale = 0.4\n",
    "renorm_factor = 1.1 * np.sqrt(input_dim / n_res)\n",
    "alpha = 1e-2\n",
    "leak_rate = 1\n",
    "\n",
    "## Choose here the parameter for the grid search\n",
    "input_scale_vec = np.arange(start=0.1, stop=1.01, step=0.1)\n",
    "# res_scale_vec = np.arange(start=0.1, stop=1.01, step=0.1)\n",
    "# bias_scale_vec = np.arange(start=0.1, stop=1.01, step=0.1)\n",
    "# renorm_factor_vec = np.arange(start=0.1, stop=1.51, step=0.1)\n",
    "# renorm_factor_vec = [renorm_factor * np.sqrt(input_dim / n_res) for renorm_factor in renorm_factor_vec]\n",
    "# alpha_vec = [1e-3, 3e-3, 1e-2, 3e-2, 1e-1]\n",
    "\n",
    "## Change here the parameter of the grid search to vary\n",
    "err = torch.zeros(len(input_scale_vec))\n",
    "for i, input_scale in tqdm(enumerate(input_scale_vec)):\n",
    "    try:\n",
    "        bias = bias_scale * torch.randn(n_res).to(device)\n",
    "        model = reservoir.ESN(input_dim, res_size=n_res, res_scale=res_scale, input_scale=input_scale, \n",
    "                              f='erf', leak_rate=leak_rate, bias=bias, random_projection='structured')\n",
    "        X = model.forward(u_train_t).to(device)\n",
    "        X = torch.cat((X, u_train_t*renorm_factor), dim=1)\n",
    "\n",
    "        output_w = model.train(X, out_train, alpha=alpha)\n",
    "\n",
    "        Xtest = model.forward(u_test_t[:test_len]).to(device)\n",
    "\n",
    "        n_rec = 400\n",
    "        test_rec_pred = model.rec_pred(Xtest, output_w, n_rec, input_dim, concat=u_test_t[:test_len]*renorm_factor, renorm_factor=renorm_factor)\n",
    "\n",
    "        new_pred_horizon = pred_horizon_range * (n_rec+1)\n",
    "        out_test = torch.zeros(test_len, input_dim * new_pred_horizon).to(device)\n",
    "        for pred_horizon in range(1, new_pred_horizon+1):\n",
    "            out_test[:, (pred_horizon-1)*input_dim:pred_horizon*input_dim] = torch.roll(u_test_t, -pred_horizon, dims=0)[:test_len]\n",
    "\n",
    "        rec_pred = test_rec_pred.reshape(n_rec_pred, (n_rec+1)*pred_horizon_range, input_dim).to(device)\n",
    "        truth = out_test[:n_rec_pred, :].reshape(n_rec_pred, (n_rec+1)*pred_horizon_range, input_dim).to(device)\n",
    "        diff = rec_pred - truth\n",
    "        err[i] = torch.sqrt(torch.mean(diff**2))\n",
    "\n",
    "        del X, Xtest, model, bias, output_w, test_rec_pred, out_test, rec_pred, truth, diff\n",
    "        torch.cuda.empty_cache()\n",
    "    except:\n",
    "        pass"
   ]
  },
  {
   "cell_type": "code",
   "execution_count": 5,
   "metadata": {},
   "outputs": [
    {
     "name": "stdout",
     "output_type": "stream",
     "text": [
      "tensor([0.7406, 0.1502, 0.1447, 0.1448, 0.1463, 0.1520, 0.1535, 0.1536, 0.1557,\n",
      "        0.1572])\n",
      "tensor(2)\n"
     ]
    },
    {
     "data": {
      "text/plain": [
       "[<matplotlib.lines.Line2D at 0x7f74e00f4898>]"
      ]
     },
     "execution_count": 5,
     "metadata": {},
     "output_type": "execute_result"
    },
    {
     "data": {
      "image/png": "[encoded data removed]",
      "text/plain": [
       "<Figure size 432x288 with 1 Axes>"
      ]
     },
     "metadata": {},
     "output_type": "display_data"
    }
   ],
   "source": [
    "print(err)\n",
    "print(np.argmin(err.cpu()))\n",
    "plt.plot(err);"
   ]
  }
 ],
 "metadata": {
  "kernelspec": {
   "display_name": "Python 3",
   "language": "python",
   "name": "python3"
  },
  "language_info": {
   "codemirror_mode": {
    "name": "ipython",
    "version": 3
   },
   "file_extension": ".py",
   "mimetype": "text/x-python",
   "name": "python",
   "nbconvert_exporter": "python",
   "pygments_lexer": "ipython3",
   "version": "3.6.9"
  }
 },
 "nbformat": 4,
 "nbformat_minor": 2
}
