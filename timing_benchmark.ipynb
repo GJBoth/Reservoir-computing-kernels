{
 "cells": [
  {
   "cell_type": "code",
   "execution_count": null,
   "metadata": {},
   "outputs": [],
   "source": [
    "import numpy as np\n",
    "import torch\n",
    "from tqdm import tqdm\n",
    "\n",
    "%matplotlib inline\n",
    "import matplotlib.pyplot as plt\n",
    "from mpl_toolkits.mplot3d import Axes3D\n",
    "from matplotlib import cm\n",
    "import seaborn\n",
    "import sys\n",
    "seaborn.set()\n",
    "\n",
    "import warnings\n",
    "warnings.filterwarnings(\"ignore\")\n",
    "\n",
    "import reservoir\n",
    "import reckernel\n",
    "import kuramoto\n",
    "%load_ext autoreload\n",
    "%autoreload 2\n",
    "use_cuda = torch.cuda.is_available()\n",
    "device = torch.device(\"cuda\" if use_cuda else \"cpu\")"
   ]
  },
  {
   "cell_type": "markdown",
   "metadata": {},
   "source": [
    "# Data generation"
   ]
  },
  {
   "cell_type": "code",
   "execution_count": null,
   "metadata": {},
   "outputs": [],
   "source": [
    "L = 22 / (2 * np.pi)  # length\n",
    "N = 100  # space discretization step\n",
    "dt = 0.25  # time discretization step\n",
    "N_train = 10000\n",
    "N_test = 5000\n",
    "N_init = 1000  # remove the initial points\n",
    "tend = (N_train + N_test + N_init) * dt\n",
    "\n",
    "dns = kuramoto.KS(L=L, N=N, dt=dt, tend=tend)\n",
    "dns.simulate()\n",
    "u = dns.uu[ninittransients:] / np.sqrt(N)\n",
    "[u_train, u_test, _] = np.split(u, [N_data_train, N_data_train+N_data_test], axis=0)"
   ]
  },
  {
   "cell_type": "code",
   "execution_count": null,
   "metadata": {},
   "outputs": [],
   "source": [
    "N_plot = 1000\n",
    "u_plot = u[:N_plot,:]\n",
    "\n",
    "plt.figure()\n",
    "plt.imshow(u.T)\n",
    "plt.colorbar()\n",
    "plt.grid(b=None)\n",
    "plt.xlabel(r\"$n, \\quad t={:}n$\".format(dt))\n",
    "plt.ylabel(r\"$x$\")\n",
    "plt.title(\"Kuramoto-Sivashisky time series\")"
   ]
  },
  {
   "cell_type": "markdown",
   "metadata": {},
   "source": [
    "# Reservoir Computing timing benchmark"
   ]
  },
  {
   "cell_type": "code",
   "execution_count": null,
   "metadata": {},
   "outputs": [],
   "source": [
    "u_train_t = torch.from_numpy(u_train).to(device)\n",
    "u_test_t = torch.from_numpy(u_test).to(device)\n",
    "input_len, input_dim = u_train_t.shape\n",
    "\n",
    "pred_horizon = 10\n",
    "out_train = torch.roll(u_train_t, -pred_horizon, dims=0)\n",
    "out_test = torch.roll(u_test_t, -pred_horizon, dims=0)\n",
    "\n",
    "n_curves = 10\n",
    "n_res_range = np.logspace(2, 4, num=n_curves, dtype=int)\n",
    "input_scale = 0.01\n",
    "res_scale = 0.8\n",
    "\n",
    "n_p = len(n_res_range)\n",
    "init_time = np.zeros((n_p, 1))\n",
    "forward_time = np.zeros((n_p, 1))\n",
    "train_time = np.zeros((n_p, 1))\n",
    "pred_time = np.zeros((n_p, 1))\n",
    "for i, n_res in tqdm(enumerate(n_res_range)):\n",
    "    initial_state = torch.randn(n_res).to(device) / np.sqrt(n_res)\n",
    "    \n",
    "    start = time()\n",
    "    torch.cuda.synchronize()\n",
    "    model = reservoir.ESN(input_dim, res_size=n_res, res_scale=res_scale, input_scale=input_scale, f='erf')\n",
    "    torch.cuda.synchronize()\n",
    "    init_time[i] = time() - start\n",
    "    start = time()\n",
    "    torch.cuda.synchronize()\n",
    "    X = model.forward(u_train_t, initial_state=initial_state).to(device)\n",
    "    torch.cuda.synchronize()\n",
    "    forward_time[i] = time() - start\n",
    "\n",
    "    start = time()\n",
    "    torch.cuda.synchronize()\n",
    "    output_w = model.train(X, out_train, alpha=1e-5)\n",
    "    torch.cuda.synchronize()\n",
    "    train_time[i] = time() - start\n",
    "\n",
    "    start = time()\n",
    "    torch.cuda.synchronize()\n",
    "    Xtest = model.forward(u_test_t, initial_state=initial_state).to(device)\n",
    "    pred_output_test = Xtest @ output_w\n",
    "    torch.cuda.synchronize()\n",
    "    pred_time[i] = time() - start\n"
   ]
  },
  {
   "cell_type": "code",
   "execution_count": null,
   "metadata": {},
   "outputs": [],
   "source": [
    "times = np.concatenate((init_time, forward_time, train_time, pred_time), axis=1)\n",
    "np.save('out/200522_time_rc_kslen1e4_singleout', times)"
   ]
  },
  {
   "cell_type": "markdown",
   "metadata": {},
   "source": [
    "# Structured Reservoir Computing"
   ]
  },
  {
   "cell_type": "code",
   "execution_count": null,
   "metadata": {},
   "outputs": [],
   "source": [
    "u_train_t = torch.from_numpy(u_train).to(device)\n",
    "u_test_t = torch.from_numpy(u_test).to(device)\n",
    "input_len, input_dim = u_train_t.shape\n",
    "\n",
    "pred_horizon = 10\n",
    "out_train = torch.roll(u_train_t, -pred_horizon, dims=0)\n",
    "out_test = torch.roll(u_test_t, -pred_horizon, dims=0)\n",
    "\n",
    "n_curves = 5\n",
    "first_pow = 8\n",
    "last_pow = 15  # 2**20 => ~10^6\n",
    "n_res_range = np.logspace(first_pow, last_pow, num=last_pow-first_pow+1, base=2., dtype=int) - input_dim\n",
    "input_scale = 0.01\n",
    "res_scale = 0.8\n",
    "\n",
    "n_p = len(n_res_range)\n",
    "init_time = np.zeros((n_p, 1))\n",
    "forward_time = np.zeros((n_p, 1))\n",
    "train_time = np.zeros((n_p, 1))\n",
    "pred_time = np.zeros((n_p, 1))\n",
    "for i, n_res in tqdm(enumerate(n_res_range)):\n",
    "    initial_state = torch.randn(n_res).to(device) / np.sqrt(n_res)\n",
    "    \n",
    "    start = time()\n",
    "    torch.cuda.synchronize()\n",
    "    model = reservoir.ESN(input_dim, res_size=n_res, res_scale=res_scale, input_scale=input_scale, \n",
    "                          f='erf', random_projection='structured')\n",
    "    torch.cuda.synchronize()\n",
    "    init_time[i] = time() - start\n",
    "    start = time()\n",
    "    torch.cuda.synchronize()\n",
    "    X = model.forward(u_train_t, initial_state=initial_state).to(device)\n",
    "    torch.cuda.synchronize()\n",
    "    forward_time[i] = time() - start\n",
    "\n",
    "    start = time()\n",
    "    torch.cuda.synchronize()\n",
    "    output_w = model.train(X, out_train, alpha=1e-5)\n",
    "    torch.cuda.synchronize()\n",
    "    train_time[i] = time() - start\n",
    "    \n",
    "    start = time()\n",
    "    torch.cuda.synchronize()\n",
    "    Xtest = model.forward(u_test_t, initial_state=initial_state).to(device)\n",
    "    pred_output_test = Xtest @ output_w\n",
    "    torch.cuda.synchronize()\n",
    "    pred_time[i] = time() - start"
   ]
  },
  {
   "cell_type": "code",
   "execution_count": null,
   "metadata": {},
   "outputs": [],
   "source": [
    "times = np.concatenate((init_time, forward_time, train_time, pred_time), axis=1)\n",
    "np.save('out/200522_time_src_kslen1e4_singleout', times)"
   ]
  },
  {
   "cell_type": "markdown",
   "metadata": {},
   "source": [
    "# Recursive kernels"
   ]
  },
  {
   "cell_type": "code",
   "execution_count": null,
   "metadata": {},
   "outputs": [],
   "source": [
    "u_train_t = torch.from_numpy(u_train).to(device)\n",
    "u_test_t = torch.from_numpy(u_test).to(device)\n",
    "input_len, input_dim = u_train_t.shape\n",
    "\n",
    "pred_horizon = 10\n",
    "out_train = torch.roll(u_train_t, -pred_horizon, dims=0)\n",
    "out_test = torch.roll(u_test_t, -pred_horizon, dims=0)\n",
    "\n",
    "input_scale = 0.01\n",
    "res_scale = 0.8\n",
    "n_iter = 50\n",
    "\n",
    "start = time()\n",
    "torch.cuda.synchronize()\n",
    "model = reckernel.RK(function='arcsin', res_scale=res_scale, input_scale=input_scale, n_iter=n_iter)\n",
    "torch.cuda.synchronize()\n",
    "init_time = time() - start\n",
    "start = time()\n",
    "torch.cuda.synchronize()\n",
    "K = model.forward(u_train_t).to(device)\n",
    "torch.cuda.synchronize()\n",
    "forward_time = time() - start\n",
    "\n",
    "start = time()\n",
    "torch.cuda.synchronize()\n",
    "output_w = model.train(K, out_train, alpha=1e-5)\n",
    "torch.cuda.synchronize()\n",
    "train_time = time() - start\n",
    "\n",
    "start = time()\n",
    "torch.cuda.synchronize()\n",
    "Ktest, _, _ = model.forward_test(u_train_t, u_test_t).to(device)\n",
    "pred_output_test = Ktest @ output_w\n",
    "torch.cuda.synchronize()\n",
    "pred_time = time() - start"
   ]
  },
  {
   "cell_type": "code",
   "execution_count": null,
   "metadata": {},
   "outputs": [],
   "source": [
    "times = np.concatenate((init_time, forward_time, train_time, pred_time))\n",
    "np.save('out/200522_time_rk_kslen1e4_singleout', times)"
   ]
  }
 ],
 "metadata": {
  "kernelspec": {
   "display_name": "Python 3",
   "language": "python",
   "name": "python3"
  },
  "language_info": {
   "codemirror_mode": {
    "name": "ipython",
    "version": 3
   },
   "file_extension": ".py",
   "mimetype": "text/x-python",
   "name": "python",
   "nbconvert_exporter": "python",
   "pygments_lexer": "ipython3",
   "version": "3.6.9"
  }
 },
 "nbformat": 4,
 "nbformat_minor": 2
}
